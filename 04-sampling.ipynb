{
 "cells": [
  {
   "cell_type": "markdown",
   "metadata": {},
   "source": [
    "# Preparation"
   ]
  },
  {
   "cell_type": "code",
   "execution_count": 25,
   "metadata": {},
   "outputs": [],
   "source": [
    "import datetime as dt\n",
    "import re\n",
    "import json\n",
    "import time\n",
    "import pandas as pd\n",
    "import numpy as np"
   ]
  },
  {
   "cell_type": "code",
   "execution_count": 36,
   "metadata": {},
   "outputs": [],
   "source": [
    "# An arbitrary integer to use as a sampling seed so the sampling is deterministic and can be re-run\n",
    "RANDOM_STATE = 13440\n",
    "\n",
    "frame = pd.read_parquet(\"secrets/sampling-frame.parquet\")\n",
    "strata_targets = pd.read_table(\"definitions/strata-sample-targets.tsv\").set_index(\"project_group\")"
   ]
  },
  {
   "cell_type": "markdown",
   "metadata": {},
   "source": [
    "# Set sample sizes"
   ]
  },
  {
   "cell_type": "code",
   "execution_count": 38,
   "metadata": {},
   "outputs": [],
   "source": [
    "# Stratify sample\n",
    "strata_sizes = frame.groupby([\"project_group\", \"edit_bin\"]).size().unstack()\n",
    "\n",
    "# `strata_targets` has string column names, but `strata_sizes` has categoricals\n",
    "strata_targets.columns = strata_sizes.columns"
   ]
  },
  {
   "cell_type": "code",
   "execution_count": 39,
   "metadata": {},
   "outputs": [],
   "source": [
    "# The targets must not be larger than the strata, or the sampling will hit an error\n",
    "excessive_targets = (strata_targets > strata_sizes)\n",
    "assert excessive_targets.any(axis=None) == False"
   ]
  },
  {
   "cell_type": "code",
   "execution_count": 40,
   "metadata": {},
   "outputs": [],
   "source": [
    "# Set target to 0 for any strata with fewer than 10 users,\n",
    "# to prevent cases where de-anonymization of data would be too easy\n",
    "strata_sizes = strata_targets.where(strata_sizes >= 10, other=0)"
   ]
  },
  {
   "cell_type": "code",
   "execution_count": 41,
   "metadata": {},
   "outputs": [
    {
     "data": {
      "text/html": [
       "<div>\n",
       "<style scoped>\n",
       "    .dataframe tbody tr th:only-of-type {\n",
       "        vertical-align: middle;\n",
       "    }\n",
       "\n",
       "    .dataframe tbody tr th {\n",
       "        vertical-align: top;\n",
       "    }\n",
       "\n",
       "    .dataframe thead th {\n",
       "        text-align: right;\n",
       "    }\n",
       "</style>\n",
       "<table border=\"1\" class=\"dataframe\">\n",
       "  <thead>\n",
       "    <tr style=\"text-align: right;\">\n",
       "      <th></th>\n",
       "      <th>project_group</th>\n",
       "      <th>edit_bin</th>\n",
       "      <th>sample_size</th>\n",
       "    </tr>\n",
       "  </thead>\n",
       "  <tbody>\n",
       "    <tr>\n",
       "      <th>0</th>\n",
       "      <td>arwiki</td>\n",
       "      <td>10-29</td>\n",
       "      <td>24</td>\n",
       "    </tr>\n",
       "    <tr>\n",
       "      <th>1</th>\n",
       "      <td>asia_wps</td>\n",
       "      <td>10-29</td>\n",
       "      <td>10</td>\n",
       "    </tr>\n",
       "    <tr>\n",
       "      <th>2</th>\n",
       "      <td>cee_wps</td>\n",
       "      <td>10-29</td>\n",
       "      <td>83</td>\n",
       "    </tr>\n",
       "    <tr>\n",
       "      <th>3</th>\n",
       "      <td>commons</td>\n",
       "      <td>10-29</td>\n",
       "      <td>163</td>\n",
       "    </tr>\n",
       "    <tr>\n",
       "      <th>4</th>\n",
       "      <td>dewiki</td>\n",
       "      <td>10-29</td>\n",
       "      <td>80</td>\n",
       "    </tr>\n",
       "  </tbody>\n",
       "</table>\n",
       "</div>"
      ],
      "text/plain": [
       "  project_group edit_bin  sample_size\n",
       "0        arwiki    10-29           24\n",
       "1      asia_wps    10-29           10\n",
       "2       cee_wps    10-29           83\n",
       "3       commons    10-29          163\n",
       "4        dewiki    10-29           80"
      ]
     },
     "execution_count": 41,
     "metadata": {},
     "output_type": "execute_result"
    }
   ],
   "source": [
    "strata = (\n",
    "  strata_sizes\n",
    "  .unstack()\n",
    "  .reset_index()\n",
    "  .rename({0: \"sample_size\"}, axis=1)\n",
    "  # Ensure columns are ordered in the expected way\n",
    "  [[\"project_group\", \"edit_bin\", \"sample_size\"]]\n",
    ")\n",
    "\n",
    "strata.head()"
   ]
  },
  {
   "cell_type": "markdown",
   "metadata": {},
   "source": [
    "# Pull samples"
   ]
  },
  {
   "cell_type": "code",
   "execution_count": 45,
   "metadata": {},
   "outputs": [],
   "source": [
    "def sample_stratum(project_group, edit_bin, sample_size):\n",
    "  \"\"\"\n",
    "  returns the sampled users as a data frame\n",
    "  \"\"\"\n",
    "  stratum = frame.query(\"project_group == @project_group & edit_bin == @edit_bin\")\n",
    "  sample = stratum.sample(n=sample_size, random_state=RANDOM_STATE)\n",
    "  return sample\n",
    "\n",
    "f = []\n",
    "\n",
    "for row in strata.itertuples(index=False):\n",
    "  f.append(sample_stratum(*row))\n",
    "  \n",
    "sampled_users = pd.concat(f)"
   ]
  },
  {
   "cell_type": "markdown",
   "metadata": {},
   "source": [
    "# Save samples table"
   ]
  },
  {
   "cell_type": "code",
   "execution_count": 50,
   "metadata": {},
   "outputs": [],
   "source": [
    "sampled_users.to_csv(\"secrets/sampled_users.tsv\", sep=\"\\t\")"
   ]
  }
 ],
 "metadata": {
  "kernelspec": {
   "display_name": "Python 3",
   "language": "python",
   "name": "python3"
  },
  "language_info": {
   "codemirror_mode": {
    "name": "ipython",
    "version": 3
   },
   "file_extension": ".py",
   "mimetype": "text/x-python",
   "name": "python",
   "nbconvert_exporter": "python",
   "pygments_lexer": "ipython3",
   "version": "3.7.3"
  }
 },
 "nbformat": 4,
 "nbformat_minor": 4
}
