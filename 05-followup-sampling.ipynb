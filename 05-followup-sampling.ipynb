{
 "cells": [
  {
   "cell_type": "markdown",
   "metadata": {},
   "source": [
    "# Preparation"
   ]
  },
  {
   "cell_type": "code",
   "execution_count": 2,
   "metadata": {},
   "outputs": [],
   "source": [
    "import datetime as dt\n",
    "import re\n",
    "import json\n",
    "import time\n",
    "import pandas as pd\n",
    "import numpy as np"
   ]
  },
  {
   "cell_type": "code",
   "execution_count": 12,
   "metadata": {},
   "outputs": [],
   "source": [
    "# An arbitrary integer to use as a sampling seed so the sampling is deterministic and can be re-run\n",
    "RANDOM_STATE = 788319\n",
    "\n",
    "frame = pd.read_parquet(\"secrets/sampling-frame.parquet\")\n",
    "previous_sample = pd.read_table(\"secrets/sampled-users.tsv\").set_index(\"user_name\")\n",
    "strata_targets = pd.read_table(\"definitions/strata-followup-sample-targets.tsv\").set_index(\"project_group\")"
   ]
  },
  {
   "cell_type": "markdown",
   "metadata": {},
   "source": [
    "# Remove previously sampled users from frame"
   ]
  },
  {
   "cell_type": "code",
   "execution_count": 13,
   "metadata": {},
   "outputs": [],
   "source": [
    "frame = frame.drop(previous_sample.index)"
   ]
  },
  {
   "cell_type": "markdown",
   "metadata": {},
   "source": [
    "# Set sample sizes"
   ]
  },
  {
   "cell_type": "code",
   "execution_count": 22,
   "metadata": {},
   "outputs": [],
   "source": [
    "# Stratify sample\n",
    "strata_sizes = frame.groupby([\"project_group\", \"edit_bin\"]).size().unstack()\n",
    "\n",
    "# `strata_targets` has string column names, but `strata_sizes` has categoricals\n",
    "strata_targets.index = strata_sizes.index"
   ]
  },
  {
   "cell_type": "code",
   "execution_count": 25,
   "metadata": {},
   "outputs": [],
   "source": [
    "# The targets must not be larger than the strata, or the sampling will hit an error\n",
    "excessive_targets = (strata_targets > strata_sizes)\n",
    "assert excessive_targets.any(axis=None) == False"
   ]
  },
  {
   "cell_type": "code",
   "execution_count": 26,
   "metadata": {},
   "outputs": [],
   "source": [
    "# Set target to 0 for any strata with fewer than 10 users,\n",
    "# to prevent cases where de-anonymization of data would be too easy\n",
    "strata_sizes = strata_targets.where(strata_sizes >= 10, other=0)"
   ]
  },
  {
   "cell_type": "code",
   "execution_count": 27,
   "metadata": {},
   "outputs": [
    {
     "data": {
      "text/html": [
       "<div>\n",
       "<style scoped>\n",
       "    .dataframe tbody tr th:only-of-type {\n",
       "        vertical-align: middle;\n",
       "    }\n",
       "\n",
       "    .dataframe tbody tr th {\n",
       "        vertical-align: top;\n",
       "    }\n",
       "\n",
       "    .dataframe thead th {\n",
       "        text-align: right;\n",
       "    }\n",
       "</style>\n",
       "<table border=\"1\" class=\"dataframe\">\n",
       "  <thead>\n",
       "    <tr style=\"text-align: right;\">\n",
       "      <th></th>\n",
       "      <th>project_group</th>\n",
       "      <th>edit_bin</th>\n",
       "      <th>sample_size</th>\n",
       "    </tr>\n",
       "  </thead>\n",
       "  <tbody>\n",
       "    <tr>\n",
       "      <th>0</th>\n",
       "      <td>arwiki</td>\n",
       "      <td>10-29</td>\n",
       "      <td>0</td>\n",
       "    </tr>\n",
       "    <tr>\n",
       "      <th>1</th>\n",
       "      <td>asia_wps</td>\n",
       "      <td>10-29</td>\n",
       "      <td>0</td>\n",
       "    </tr>\n",
       "    <tr>\n",
       "      <th>2</th>\n",
       "      <td>cee_wps</td>\n",
       "      <td>10-29</td>\n",
       "      <td>25</td>\n",
       "    </tr>\n",
       "    <tr>\n",
       "      <th>3</th>\n",
       "      <td>commons</td>\n",
       "      <td>10-29</td>\n",
       "      <td>0</td>\n",
       "    </tr>\n",
       "    <tr>\n",
       "      <th>4</th>\n",
       "      <td>dewiki</td>\n",
       "      <td>10-29</td>\n",
       "      <td>0</td>\n",
       "    </tr>\n",
       "  </tbody>\n",
       "</table>\n",
       "</div>"
      ],
      "text/plain": [
       "  project_group edit_bin  sample_size\n",
       "0        arwiki    10-29            0\n",
       "1      asia_wps    10-29            0\n",
       "2       cee_wps    10-29           25\n",
       "3       commons    10-29            0\n",
       "4        dewiki    10-29            0"
      ]
     },
     "execution_count": 27,
     "metadata": {},
     "output_type": "execute_result"
    }
   ],
   "source": [
    "strata = (\n",
    "  strata_sizes\n",
    "  .unstack()\n",
    "  .reset_index()\n",
    "  .rename({0: \"sample_size\"}, axis=1)\n",
    "  # Ensure columns are ordered in the expected way\n",
    "  [[\"project_group\", \"edit_bin\", \"sample_size\"]]\n",
    ")\n",
    "\n",
    "strata.head()"
   ]
  },
  {
   "cell_type": "markdown",
   "metadata": {},
   "source": [
    "# Pull samples"
   ]
  },
  {
   "cell_type": "code",
   "execution_count": 28,
   "metadata": {},
   "outputs": [],
   "source": [
    "def sample_stratum(project_group, edit_bin, sample_size):\n",
    "  \"\"\"\n",
    "  returns the sampled users as a data frame\n",
    "  \"\"\"\n",
    "  stratum = frame.query(\"project_group == @project_group & edit_bin == @edit_bin\")\n",
    "  sample = stratum.sample(n=sample_size, random_state=RANDOM_STATE)\n",
    "  return sample\n",
    "\n",
    "f = []\n",
    "\n",
    "for row in strata.itertuples(index=False):\n",
    "  f.append(sample_stratum(*row))\n",
    "  \n",
    "sampled_users = pd.concat(f)"
   ]
  },
  {
   "cell_type": "code",
   "execution_count": 29,
   "metadata": {},
   "outputs": [
    {
     "name": "stdout",
     "output_type": "stream",
     "text": [
      "<class 'pandas.core.frame.DataFrame'>\n",
      "Index: 9476 entries, Dimagp to Cedric tsan cantonais\n",
      "Data columns (total 5 columns):\n",
      " #   Column         Non-Null Count  Dtype   \n",
      "---  ------         --------------  -----   \n",
      " 0   email          9476 non-null   object  \n",
      " 1   home_project   9476 non-null   category\n",
      " 2   global_edits   9476 non-null   float64 \n",
      " 3   project_group  9476 non-null   category\n",
      " 4   edit_bin       9476 non-null   category\n",
      "dtypes: category(3), float64(1), object(1)\n",
      "memory usage: 273.0+ KB\n"
     ]
    }
   ],
   "source": [
    "sampled_users.info()"
   ]
  },
  {
   "cell_type": "markdown",
   "metadata": {},
   "source": [
    "# Save samples table"
   ]
  },
  {
   "cell_type": "code",
   "execution_count": 32,
   "metadata": {},
   "outputs": [],
   "source": [
    "sampled_users.to_csv(\"secrets/followup-sampled-users.tsv\", sep=\"\\t\")"
   ]
  },
  {
   "cell_type": "code",
   "execution_count": null,
   "metadata": {},
   "outputs": [],
   "source": []
  }
 ],
 "metadata": {
  "kernelspec": {
   "display_name": "Python 3",
   "language": "python",
   "name": "python3"
  },
  "language_info": {
   "codemirror_mode": {
    "name": "ipython",
    "version": 3
   },
   "file_extension": ".py",
   "mimetype": "text/x-python",
   "name": "python",
   "nbconvert_exporter": "python",
   "pygments_lexer": "ipython3",
   "version": "3.7.3"
  }
 },
 "nbformat": 4,
 "nbformat_minor": 4
}
