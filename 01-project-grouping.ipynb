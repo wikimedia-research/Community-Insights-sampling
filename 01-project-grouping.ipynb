{
 "cells": [
  {
   "cell_type": "code",
   "execution_count": 2,
   "metadata": {},
   "outputs": [],
   "source": [
    "import wmfdata as wmf\n",
    "import pandas as pd"
   ]
  },
  {
   "cell_type": "markdown",
   "metadata": {},
   "source": [
    "# Load existing list of grouped projects"
   ]
  },
  {
   "cell_type": "markdown",
   "metadata": {},
   "source": [
    "This file is the canonical source for which project keys belong to which groups (any keys not found in the file belong to the \"other\" group). That information needs to be preserved. On the other hand, the human-readable project names are just for the convenience of anyone reading the file, so they don't need to be preserved and will just get in the way."
   ]
  },
  {
   "cell_type": "code",
   "execution_count": 3,
   "metadata": {},
   "outputs": [
    {
     "data": {
      "text/html": [
       "<div>\n",
       "<style scoped>\n",
       "    .dataframe tbody tr th:only-of-type {\n",
       "        vertical-align: middle;\n",
       "    }\n",
       "\n",
       "    .dataframe tbody tr th {\n",
       "        vertical-align: top;\n",
       "    }\n",
       "\n",
       "    .dataframe thead th {\n",
       "        text-align: right;\n",
       "    }\n",
       "</style>\n",
       "<table border=\"1\" class=\"dataframe\">\n",
       "  <thead>\n",
       "    <tr style=\"text-align: right;\">\n",
       "      <th></th>\n",
       "      <th>project_group</th>\n",
       "    </tr>\n",
       "    <tr>\n",
       "      <th>project_key</th>\n",
       "      <th></th>\n",
       "    </tr>\n",
       "  </thead>\n",
       "  <tbody>\n",
       "    <tr>\n",
       "      <th>abwiki</th>\n",
       "      <td>meaf_wps</td>\n",
       "    </tr>\n",
       "    <tr>\n",
       "      <th>acewiki</th>\n",
       "      <td>asia_wps</td>\n",
       "    </tr>\n",
       "    <tr>\n",
       "      <th>adywiki</th>\n",
       "      <td>cee_wps</td>\n",
       "    </tr>\n",
       "    <tr>\n",
       "      <th>afwiki</th>\n",
       "      <td>meaf_wps</td>\n",
       "    </tr>\n",
       "    <tr>\n",
       "      <th>akwiki</th>\n",
       "      <td>meaf_wps</td>\n",
       "    </tr>\n",
       "  </tbody>\n",
       "</table>\n",
       "</div>"
      ],
      "text/plain": [
       "            project_group\n",
       "project_key              \n",
       "abwiki           meaf_wps\n",
       "acewiki          asia_wps\n",
       "adywiki           cee_wps\n",
       "afwiki           meaf_wps\n",
       "akwiki           meaf_wps"
      ]
     },
     "execution_count": 3,
     "metadata": {},
     "output_type": "execute_result"
    }
   ],
   "source": [
    "grouped_projects = (\n",
    "  pd.read_table(\"definitions/project-group-assignments.tsv\")\n",
    "  .set_index(\"project_key\")\n",
    "  .drop(\"project_name\", axis=1)\n",
    ")\n",
    "\n",
    "grouped_projects.head()"
   ]
  },
  {
   "cell_type": "markdown",
   "metadata": {},
   "source": [
    "# Update list"
   ]
  },
  {
   "cell_type": "markdown",
   "metadata": {},
   "source": [
    "Let's pull an up-to-date list of all open content projects so we can update our existing list with new projects, closed projects, and updated names."
   ]
  },
  {
   "cell_type": "code",
   "execution_count": 20,
   "metadata": {},
   "outputs": [
    {
     "name": "stderr",
     "output_type": "stream",
     "text": [
      "PySpark executors will use /usr/lib/anaconda-wmf/bin/python3.\n"
     ]
    },
    {
     "name": "stdout",
     "output_type": "stream",
     "text": [
      "(763, 2)\n"
     ]
    },
    {
     "data": {
      "text/html": [
       "<div>\n",
       "<style scoped>\n",
       "    .dataframe tbody tr th:only-of-type {\n",
       "        vertical-align: middle;\n",
       "    }\n",
       "\n",
       "    .dataframe tbody tr th {\n",
       "        vertical-align: top;\n",
       "    }\n",
       "\n",
       "    .dataframe thead th {\n",
       "        text-align: right;\n",
       "    }\n",
       "</style>\n",
       "<table border=\"1\" class=\"dataframe\">\n",
       "  <thead>\n",
       "    <tr style=\"text-align: right;\">\n",
       "      <th></th>\n",
       "      <th>project_name</th>\n",
       "      <th>language</th>\n",
       "    </tr>\n",
       "    <tr>\n",
       "      <th>project_key</th>\n",
       "      <th></th>\n",
       "      <th></th>\n",
       "    </tr>\n",
       "  </thead>\n",
       "  <tbody>\n",
       "    <tr>\n",
       "      <th>abwiki</th>\n",
       "      <td>Abkhazian Wikipedia</td>\n",
       "      <td>Abkhazian</td>\n",
       "    </tr>\n",
       "    <tr>\n",
       "      <th>acewiki</th>\n",
       "      <td>Achinese Wikipedia</td>\n",
       "      <td>Achinese</td>\n",
       "    </tr>\n",
       "    <tr>\n",
       "      <th>adywiki</th>\n",
       "      <td>Adyghe Wikipedia</td>\n",
       "      <td>Adyghe</td>\n",
       "    </tr>\n",
       "    <tr>\n",
       "      <th>afwiki</th>\n",
       "      <td>Afrikaans Wikipedia</td>\n",
       "      <td>Afrikaans</td>\n",
       "    </tr>\n",
       "    <tr>\n",
       "      <th>afwikibooks</th>\n",
       "      <td>Afrikaans Wikibooks</td>\n",
       "      <td>Afrikaans</td>\n",
       "    </tr>\n",
       "  </tbody>\n",
       "</table>\n",
       "</div>"
      ],
      "text/plain": [
       "                    project_name   language\n",
       "project_key                                \n",
       "abwiki       Abkhazian Wikipedia  Abkhazian\n",
       "acewiki       Achinese Wikipedia   Achinese\n",
       "adywiki         Adyghe Wikipedia     Adyghe\n",
       "afwiki       Afrikaans Wikipedia  Afrikaans\n",
       "afwikibooks  Afrikaans Wikibooks  Afrikaans"
      ]
     },
     "execution_count": 20,
     "metadata": {},
     "output_type": "execute_result"
    }
   ],
   "source": [
    "# It's likely necessary to update the `canonical_data.wikis` table first.\n",
    "# See github.com/wikimedia-research/canonical-data/ for more info.\n",
    "\n",
    "all_projects = wmf.spark.run(\"\"\"\n",
    "  SELECT\n",
    "    database_code as project_key,\n",
    "    english_name as project_name,\n",
    "    language_name as language\n",
    "  FROM\n",
    "    canonical_data.wikis\n",
    "  WHERE\n",
    "    database_group in (\n",
    "      \"commons\", \"incubator\", \"foundation\", \"mediawiki\", \"meta\", \"sources\",\n",
    "      \"species\",\"wikibooks\", \"wikidata\", \"wikinews\", \"wikipedia\", \"wikiquote\",\n",
    "      \"wikisource\", \"wikiversity\", \"wikivoyage\", \"wiktionary\"\n",
    "    ) AND\n",
    "    status = \"open\" AND\n",
    "    visibility = \"public\" AND\n",
    "    editability = \"public\"\n",
    "\"\"\").set_index(\"project_key\")\n",
    "\n",
    "print(all_projects.shape)\n",
    "all_projects.head()"
   ]
  },
  {
   "cell_type": "code",
   "execution_count": 21,
   "metadata": {},
   "outputs": [
    {
     "data": {
      "text/html": [
       "<div>\n",
       "<style scoped>\n",
       "    .dataframe tbody tr th:only-of-type {\n",
       "        vertical-align: middle;\n",
       "    }\n",
       "\n",
       "    .dataframe tbody tr th {\n",
       "        vertical-align: top;\n",
       "    }\n",
       "\n",
       "    .dataframe thead th {\n",
       "        text-align: right;\n",
       "    }\n",
       "</style>\n",
       "<table border=\"1\" class=\"dataframe\">\n",
       "  <thead>\n",
       "    <tr style=\"text-align: right;\">\n",
       "      <th></th>\n",
       "      <th>project_name</th>\n",
       "      <th>language</th>\n",
       "      <th>project_group</th>\n",
       "    </tr>\n",
       "    <tr>\n",
       "      <th>project_key</th>\n",
       "      <th></th>\n",
       "      <th></th>\n",
       "      <th></th>\n",
       "    </tr>\n",
       "  </thead>\n",
       "  <tbody>\n",
       "    <tr>\n",
       "      <th>abwiki</th>\n",
       "      <td>Abkhazian Wikipedia</td>\n",
       "      <td>Abkhazian</td>\n",
       "      <td>meaf_wps</td>\n",
       "    </tr>\n",
       "    <tr>\n",
       "      <th>acewiki</th>\n",
       "      <td>Achinese Wikipedia</td>\n",
       "      <td>Achinese</td>\n",
       "      <td>asia_wps</td>\n",
       "    </tr>\n",
       "    <tr>\n",
       "      <th>adywiki</th>\n",
       "      <td>Adyghe Wikipedia</td>\n",
       "      <td>Adyghe</td>\n",
       "      <td>cee_wps</td>\n",
       "    </tr>\n",
       "    <tr>\n",
       "      <th>afwiki</th>\n",
       "      <td>Afrikaans Wikipedia</td>\n",
       "      <td>Afrikaans</td>\n",
       "      <td>meaf_wps</td>\n",
       "    </tr>\n",
       "    <tr>\n",
       "      <th>afwikibooks</th>\n",
       "      <td>Afrikaans Wikibooks</td>\n",
       "      <td>Afrikaans</td>\n",
       "      <td>NaN</td>\n",
       "    </tr>\n",
       "  </tbody>\n",
       "</table>\n",
       "</div>"
      ],
      "text/plain": [
       "                    project_name   language project_group\n",
       "project_key                                              \n",
       "abwiki       Abkhazian Wikipedia  Abkhazian      meaf_wps\n",
       "acewiki       Achinese Wikipedia   Achinese      asia_wps\n",
       "adywiki         Adyghe Wikipedia     Adyghe       cee_wps\n",
       "afwiki       Afrikaans Wikipedia  Afrikaans      meaf_wps\n",
       "afwikibooks  Afrikaans Wikibooks  Afrikaans           NaN"
      ]
     },
     "execution_count": 21,
     "metadata": {},
     "output_type": "execute_result"
    }
   ],
   "source": [
    "projects = pd.merge(\n",
    "  all_projects, \n",
    "  grouped_projects,\n",
    "  on=\"project_key\",\n",
    "  # This ensures that keys present only in the old list, which \n",
    "  # represent closed or deleted projects, are dropped.\n",
    "  how=\"left\"\n",
    ")\n",
    "\n",
    "projects.head()"
   ]
  },
  {
   "cell_type": "code",
   "execution_count": 22,
   "metadata": {},
   "outputs": [
    {
     "data": {
      "text/plain": [
       "project_name       0\n",
       "language           0\n",
       "project_group    459\n",
       "dtype: int64"
      ]
     },
     "execution_count": 22,
     "metadata": {},
     "output_type": "execute_result"
    }
   ],
   "source": [
    "# check on number of null values i.e. projects with no assigned group\n",
    "projects.isna().sum()"
   ]
  },
  {
   "cell_type": "markdown",
   "metadata": {},
   "source": [
    "Even though the projects (wikis) are open and public, there are might some wikis where there is no activity during the last three months. We will filter wikis that do not have at least one active editor (5 content edits in 2 of 3 last months: 10 edits) during the last three months."
   ]
  },
  {
   "cell_type": "code",
   "execution_count": 10,
   "metadata": {},
   "outputs": [
    {
     "name": "stdout",
     "output_type": "stream",
     "text": [
      "(672, 2)\n"
     ]
    },
    {
     "data": {
      "text/html": [
       "<div>\n",
       "<style scoped>\n",
       "    .dataframe tbody tr th:only-of-type {\n",
       "        vertical-align: middle;\n",
       "    }\n",
       "\n",
       "    .dataframe tbody tr th {\n",
       "        vertical-align: top;\n",
       "    }\n",
       "\n",
       "    .dataframe thead th {\n",
       "        text-align: right;\n",
       "    }\n",
       "</style>\n",
       "<table border=\"1\" class=\"dataframe\">\n",
       "  <thead>\n",
       "    <tr style=\"text-align: right;\">\n",
       "      <th></th>\n",
       "      <th>wiki_db</th>\n",
       "      <th>active_editors_count</th>\n",
       "    </tr>\n",
       "  </thead>\n",
       "  <tbody>\n",
       "    <tr>\n",
       "      <th>0</th>\n",
       "      <td>enwiki</td>\n",
       "      <td>38475</td>\n",
       "    </tr>\n",
       "    <tr>\n",
       "      <th>1</th>\n",
       "      <td>commonswiki</td>\n",
       "      <td>16835</td>\n",
       "    </tr>\n",
       "    <tr>\n",
       "      <th>2</th>\n",
       "      <td>wikidatawiki</td>\n",
       "      <td>16260</td>\n",
       "    </tr>\n",
       "    <tr>\n",
       "      <th>3</th>\n",
       "      <td>jawiki</td>\n",
       "      <td>7083</td>\n",
       "    </tr>\n",
       "    <tr>\n",
       "      <th>4</th>\n",
       "      <td>dewiki</td>\n",
       "      <td>6340</td>\n",
       "    </tr>\n",
       "  </tbody>\n",
       "</table>\n",
       "</div>"
      ],
      "text/plain": [
       "        wiki_db  active_editors_count\n",
       "0        enwiki                 38475\n",
       "1   commonswiki                 16835\n",
       "2  wikidatawiki                 16260\n",
       "3        jawiki                  7083\n",
       "4        dewiki                  6340"
      ]
     },
     "execution_count": 10,
     "metadata": {},
     "output_type": "execute_result"
    }
   ],
   "source": [
    "active_projects_source = wmf.spark.run(\"\"\"\n",
    "WITH user_edits_by_wiki AS (\n",
    "SELECT \n",
    "    wiki_db,\n",
    "    event_user_text,\n",
    "    COUNT(*)\n",
    "FROM wmf.mediawiki_history\n",
    "WHERE \n",
    "    snapshot = \"2022-03\" AND\n",
    "    YEAR(event_timestamp) = 2022 AND\n",
    "    MONTH(event_timestamp) IN (1, 2, 3) AND\n",
    "    NOT event_user_is_anonymous AND\n",
    "    SIZE(event_user_is_bot_by) = 0 AND\n",
    "    page_namespace_is_content_historical AND\n",
    "    event_entity = \"revision\" AND\n",
    "    event_type = \"create\"\n",
    "GROUP BY wiki_db, event_user_text\n",
    "HAVING COUNT(*) > 10)\n",
    "\n",
    "SELECT wiki_db, COUNT(DISTINCT event_user_text) AS active_editors_count\n",
    "FROM user_edits_by_wiki\n",
    "GROUP BY wiki_db\n",
    "ORDER BY active_editors_count DESC\n",
    "\"\"\"\n",
    ")\n",
    "\n",
    "print(active_projects_source.shape)\n",
    "active_projects_source.head()"
   ]
  },
  {
   "cell_type": "code",
   "execution_count": 94,
   "metadata": {},
   "outputs": [
    {
     "name": "stdout",
     "output_type": "stream",
     "text": [
      "(646, 4)\n"
     ]
    },
    {
     "data": {
      "text/html": [
       "<div>\n",
       "<style scoped>\n",
       "    .dataframe tbody tr th:only-of-type {\n",
       "        vertical-align: middle;\n",
       "    }\n",
       "\n",
       "    .dataframe tbody tr th {\n",
       "        vertical-align: top;\n",
       "    }\n",
       "\n",
       "    .dataframe thead th {\n",
       "        text-align: right;\n",
       "    }\n",
       "</style>\n",
       "<table border=\"1\" class=\"dataframe\">\n",
       "  <thead>\n",
       "    <tr style=\"text-align: right;\">\n",
       "      <th></th>\n",
       "      <th>project_key</th>\n",
       "      <th>project_name</th>\n",
       "      <th>language</th>\n",
       "      <th>project_group</th>\n",
       "    </tr>\n",
       "  </thead>\n",
       "  <tbody>\n",
       "    <tr>\n",
       "      <th>0</th>\n",
       "      <td>enwiki</td>\n",
       "      <td>English Wikipedia</td>\n",
       "      <td>English</td>\n",
       "      <td>enwiki</td>\n",
       "    </tr>\n",
       "    <tr>\n",
       "      <th>1</th>\n",
       "      <td>commonswiki</td>\n",
       "      <td>Wikimedia Commons</td>\n",
       "      <td>English</td>\n",
       "      <td>commons</td>\n",
       "    </tr>\n",
       "    <tr>\n",
       "      <th>2</th>\n",
       "      <td>wikidatawiki</td>\n",
       "      <td>Wikidata</td>\n",
       "      <td>English</td>\n",
       "      <td>wikidata</td>\n",
       "    </tr>\n",
       "    <tr>\n",
       "      <th>3</th>\n",
       "      <td>jawiki</td>\n",
       "      <td>Japanese Wikipedia</td>\n",
       "      <td>Japanese</td>\n",
       "      <td>jawiki</td>\n",
       "    </tr>\n",
       "    <tr>\n",
       "      <th>4</th>\n",
       "      <td>dewiki</td>\n",
       "      <td>German Wikipedia</td>\n",
       "      <td>German</td>\n",
       "      <td>dewiki</td>\n",
       "    </tr>\n",
       "  </tbody>\n",
       "</table>\n",
       "</div>"
      ],
      "text/plain": [
       "    project_key        project_name  language project_group\n",
       "0        enwiki   English Wikipedia   English        enwiki\n",
       "1   commonswiki   Wikimedia Commons   English       commons\n",
       "2  wikidatawiki            Wikidata   English      wikidata\n",
       "3        jawiki  Japanese Wikipedia  Japanese        jawiki\n",
       "4        dewiki    German Wikipedia    German        dewiki"
      ]
     },
     "execution_count": 94,
     "metadata": {},
     "output_type": "execute_result"
    }
   ],
   "source": [
    "# projects that are open, live and public from canonical_data.wikis\n",
    "# and have at least one active editor during the last three months\n",
    "active_projects = (pd.merge(active_projects_source.wiki_db,\n",
    "                            projects.reset_index(), how='inner', \n",
    "                            left_on='wiki_db', right_on='project_key')\n",
    "                   .drop(['wiki_db'], axis=1))\n",
    "\n",
    "print(active_projects.shape)\n",
    "active_projects.head()"
   ]
  },
  {
   "cell_type": "code",
   "execution_count": 95,
   "metadata": {},
   "outputs": [
    {
     "data": {
      "text/html": [
       "<div>\n",
       "<style scoped>\n",
       "    .dataframe tbody tr th:only-of-type {\n",
       "        vertical-align: middle;\n",
       "    }\n",
       "\n",
       "    .dataframe tbody tr th {\n",
       "        vertical-align: top;\n",
       "    }\n",
       "\n",
       "    .dataframe thead th {\n",
       "        text-align: right;\n",
       "    }\n",
       "</style>\n",
       "<table border=\"1\" class=\"dataframe\">\n",
       "  <thead>\n",
       "    <tr style=\"text-align: right;\">\n",
       "      <th></th>\n",
       "      <th>wiki_db</th>\n",
       "      <th>active_editors_count</th>\n",
       "    </tr>\n",
       "  </thead>\n",
       "  <tbody>\n",
       "    <tr>\n",
       "      <th>123</th>\n",
       "      <td>testwiki</td>\n",
       "      <td>29</td>\n",
       "    </tr>\n",
       "    <tr>\n",
       "      <th>126</th>\n",
       "      <td>ruwikimedia</td>\n",
       "      <td>28</td>\n",
       "    </tr>\n",
       "    <tr>\n",
       "      <th>160</th>\n",
       "      <td>testwikidatawiki</td>\n",
       "      <td>19</td>\n",
       "    </tr>\n",
       "    <tr>\n",
       "      <th>176</th>\n",
       "      <td>outreachwiki</td>\n",
       "      <td>16</td>\n",
       "    </tr>\n",
       "    <tr>\n",
       "      <th>192</th>\n",
       "      <td>pawikisource</td>\n",
       "      <td>13</td>\n",
       "    </tr>\n",
       "    <tr>\n",
       "      <th>216</th>\n",
       "      <td>plwikimedia</td>\n",
       "      <td>11</td>\n",
       "    </tr>\n",
       "    <tr>\n",
       "      <th>241</th>\n",
       "      <td>sewikimedia</td>\n",
       "      <td>10</td>\n",
       "    </tr>\n",
       "    <tr>\n",
       "      <th>247</th>\n",
       "      <td>idwikimedia</td>\n",
       "      <td>9</td>\n",
       "    </tr>\n",
       "    <tr>\n",
       "      <th>249</th>\n",
       "      <td>betawikiversity</td>\n",
       "      <td>9</td>\n",
       "    </tr>\n",
       "    <tr>\n",
       "      <th>294</th>\n",
       "      <td>brwikimedia</td>\n",
       "      <td>7</td>\n",
       "    </tr>\n",
       "    <tr>\n",
       "      <th>333</th>\n",
       "      <td>uawikimedia</td>\n",
       "      <td>6</td>\n",
       "    </tr>\n",
       "    <tr>\n",
       "      <th>348</th>\n",
       "      <td>etwikimedia</td>\n",
       "      <td>5</td>\n",
       "    </tr>\n",
       "    <tr>\n",
       "      <th>437</th>\n",
       "      <td>yuewiktionary</td>\n",
       "      <td>3</td>\n",
       "    </tr>\n",
       "    <tr>\n",
       "      <th>445</th>\n",
       "      <td>cawikimedia</td>\n",
       "      <td>3</td>\n",
       "    </tr>\n",
       "    <tr>\n",
       "      <th>455</th>\n",
       "      <td>nlwikimedia</td>\n",
       "      <td>3</td>\n",
       "    </tr>\n",
       "    <tr>\n",
       "      <th>509</th>\n",
       "      <td>bewikimedia</td>\n",
       "      <td>2</td>\n",
       "    </tr>\n",
       "    <tr>\n",
       "      <th>517</th>\n",
       "      <td>nowikimedia</td>\n",
       "      <td>2</td>\n",
       "    </tr>\n",
       "    <tr>\n",
       "      <th>555</th>\n",
       "      <td>dtywiki</td>\n",
       "      <td>2</td>\n",
       "    </tr>\n",
       "    <tr>\n",
       "      <th>562</th>\n",
       "      <td>trwikimedia</td>\n",
       "      <td>2</td>\n",
       "    </tr>\n",
       "    <tr>\n",
       "      <th>574</th>\n",
       "      <td>cowikimedia</td>\n",
       "      <td>1</td>\n",
       "    </tr>\n",
       "    <tr>\n",
       "      <th>592</th>\n",
       "      <td>dkwikimedia</td>\n",
       "      <td>1</td>\n",
       "    </tr>\n",
       "    <tr>\n",
       "      <th>598</th>\n",
       "      <td>test2wiki</td>\n",
       "      <td>1</td>\n",
       "    </tr>\n",
       "    <tr>\n",
       "      <th>602</th>\n",
       "      <td>amwikimedia</td>\n",
       "      <td>1</td>\n",
       "    </tr>\n",
       "    <tr>\n",
       "      <th>604</th>\n",
       "      <td>ptwikimedia</td>\n",
       "      <td>1</td>\n",
       "    </tr>\n",
       "    <tr>\n",
       "      <th>617</th>\n",
       "      <td>bdwikimedia</td>\n",
       "      <td>1</td>\n",
       "    </tr>\n",
       "    <tr>\n",
       "      <th>640</th>\n",
       "      <td>fiwikimedia</td>\n",
       "      <td>1</td>\n",
       "    </tr>\n",
       "  </tbody>\n",
       "</table>\n",
       "</div>"
      ],
      "text/plain": [
       "              wiki_db  active_editors_count\n",
       "123          testwiki                    29\n",
       "126       ruwikimedia                    28\n",
       "160  testwikidatawiki                    19\n",
       "176      outreachwiki                    16\n",
       "192      pawikisource                    13\n",
       "216       plwikimedia                    11\n",
       "241       sewikimedia                    10\n",
       "247       idwikimedia                     9\n",
       "249   betawikiversity                     9\n",
       "294       brwikimedia                     7\n",
       "333       uawikimedia                     6\n",
       "348       etwikimedia                     5\n",
       "437     yuewiktionary                     3\n",
       "445       cawikimedia                     3\n",
       "455       nlwikimedia                     3\n",
       "509       bewikimedia                     2\n",
       "517       nowikimedia                     2\n",
       "555           dtywiki                     2\n",
       "562       trwikimedia                     2\n",
       "574       cowikimedia                     1\n",
       "592       dkwikimedia                     1\n",
       "598         test2wiki                     1\n",
       "602       amwikimedia                     1\n",
       "604       ptwikimedia                     1\n",
       "617       bdwikimedia                     1\n",
       "640       fiwikimedia                     1"
      ]
     },
     "execution_count": 95,
     "metadata": {},
     "output_type": "execute_result"
    }
   ],
   "source": [
    "#reviewing projects that have active editor(s) but not present in canonical_data.wikis\n",
    "active_projects_source[active_projects_source['wiki_db']\n",
    "                       .apply(lambda x:True if x not in projects\n",
    "                              .reset_index().project_key.values else False)]"
   ]
  },
  {
   "cell_type": "markdown",
   "metadata": {},
   "source": [
    "While most of the above wikis belong to Wikimedia affiliates or test wikis, a couple of wikis are open, public, and editable wikis - they are pawikisource and dtywiki. The issue is documented at https://github.com/wikimedia-research/canonical-data/issues/1. But for now, we will be adding these two wikis manually to our active projects frame."
   ]
  },
  {
   "cell_type": "code",
   "execution_count": 96,
   "metadata": {},
   "outputs": [
    {
     "name": "stdout",
     "output_type": "stream",
     "text": [
      "(648, 4)\n"
     ]
    },
    {
     "data": {
      "text/html": [
       "<div>\n",
       "<style scoped>\n",
       "    .dataframe tbody tr th:only-of-type {\n",
       "        vertical-align: middle;\n",
       "    }\n",
       "\n",
       "    .dataframe tbody tr th {\n",
       "        vertical-align: top;\n",
       "    }\n",
       "\n",
       "    .dataframe thead th {\n",
       "        text-align: right;\n",
       "    }\n",
       "</style>\n",
       "<table border=\"1\" class=\"dataframe\">\n",
       "  <thead>\n",
       "    <tr style=\"text-align: right;\">\n",
       "      <th></th>\n",
       "      <th>project_key</th>\n",
       "      <th>project_name</th>\n",
       "      <th>language</th>\n",
       "      <th>project_group</th>\n",
       "    </tr>\n",
       "  </thead>\n",
       "  <tbody>\n",
       "    <tr>\n",
       "      <th>643</th>\n",
       "      <td>elwikibooks</td>\n",
       "      <td>Greek Wikibooks</td>\n",
       "      <td>Greek</td>\n",
       "      <td>NaN</td>\n",
       "    </tr>\n",
       "    <tr>\n",
       "      <th>644</th>\n",
       "      <td>klwiktionary</td>\n",
       "      <td>Kalaallisut Wiktionary</td>\n",
       "      <td>Kalaallisut</td>\n",
       "      <td>NaN</td>\n",
       "    </tr>\n",
       "    <tr>\n",
       "      <th>645</th>\n",
       "      <td>cawikiquote</td>\n",
       "      <td>Catalan Wikiquote</td>\n",
       "      <td>Catalan</td>\n",
       "      <td>NaN</td>\n",
       "    </tr>\n",
       "    <tr>\n",
       "      <th>646</th>\n",
       "      <td>pawikisource</td>\n",
       "      <td>Punjabi Wikisource</td>\n",
       "      <td>Punjabi</td>\n",
       "      <td>NaN</td>\n",
       "    </tr>\n",
       "    <tr>\n",
       "      <th>647</th>\n",
       "      <td>dtywiki</td>\n",
       "      <td>Doteli Wikipedia</td>\n",
       "      <td>Doteli</td>\n",
       "      <td>NaN</td>\n",
       "    </tr>\n",
       "  </tbody>\n",
       "</table>\n",
       "</div>"
      ],
      "text/plain": [
       "      project_key            project_name     language project_group\n",
       "643   elwikibooks         Greek Wikibooks        Greek           NaN\n",
       "644  klwiktionary  Kalaallisut Wiktionary  Kalaallisut           NaN\n",
       "645   cawikiquote       Catalan Wikiquote      Catalan           NaN\n",
       "646  pawikisource      Punjabi Wikisource      Punjabi           NaN\n",
       "647       dtywiki        Doteli Wikipedia       Doteli           NaN"
      ]
     },
     "execution_count": 96,
     "metadata": {},
     "output_type": "execute_result"
    }
   ],
   "source": [
    "#adding missing projects to the active projects frame\n",
    "missing_projects_df = pd.DataFrame([\n",
    "    ['pawikisource', 'Punjabi Wikisource', 'Punjabi', float('nan')],\n",
    "    ['dtywiki', 'Doteli Wikipedia', 'Doteli', float('nan')]\n",
    "], columns=active_projects.columns)\n",
    "\n",
    "active_projects = active_projects.append(missing_projects_df, ignore_index=True)\n",
    "print(active_projects.shape)\n",
    "active_projects.tail()"
   ]
  },
  {
   "cell_type": "markdown",
   "metadata": {},
   "source": [
    "### Reclassifying sister projects\n",
    "In previous iterations of Commmunity Insights sampling (prior to 2022), 14 large Wikipedias, Wikimedia Commons, and Wikidata, have their own groups, and rest of the Wikipedias are classified into various regional groups. In addition, all the sister projects (Wikisource, Wikivoyage etc.) are being classified to \"Other\" category. This is to be changed to reclassify sister projects from \"Other\" into respective regional groups as their language Wikipedias are. For example, if Hindi Wikisource is currently in \"Other\", it would be categorized into South Asia group, as Hindi Wikipedia belongs to South Asia."
   ]
  },
  {
   "cell_type": "code",
   "execution_count": 97,
   "metadata": {},
   "outputs": [],
   "source": [
    "# we want to preserve the groups of 16 large wikis \n",
    "# as these single-member groups are specific to respective Wikipedias, \n",
    "# no sister projects will be added to those group\n",
    "large_wikis = ['English', 'commons', 'wikidata', 'Japanese',\n",
    "               'German', 'French', 'metawiki', 'Spanish', \n",
    "               'Russian', 'Chinese', 'Italian', 'Portuguese',\n",
    "               'Dutch', 'Arabic', 'Korean', 'Vietnamese']\n",
    "\n",
    "languages_map = dict(active_projects[active_projects['project_group']\n",
    "                                     .notna()][['language', 'project_group']].values)\n",
    "\n",
    "for i in active_projects[active_projects.project_group.isna()].index:\n",
    "    if active_projects.loc[i,:].language not in large_wikis:\n",
    "        try:\n",
    "            active_projects.loc[i, 'project_group'] = languages_map[active_projects.loc[i,:].language]\n",
    "        except:\n",
    "            pass"
   ]
  },
  {
   "cell_type": "code",
   "execution_count": 98,
   "metadata": {},
   "outputs": [
    {
     "data": {
      "text/plain": [
       "project_key        0\n",
       "project_name       0\n",
       "language           0\n",
       "project_group    105\n",
       "dtype: int64"
      ]
     },
     "execution_count": 98,
     "metadata": {},
     "output_type": "execute_result"
    }
   ],
   "source": [
    "# review pending null values\n",
    "active_projects.isna().sum()"
   ]
  },
  {
   "cell_type": "code",
   "execution_count": 99,
   "metadata": {},
   "outputs": [
    {
     "data": {
      "text/plain": [
       "array(['English', 'Chinese', 'French', 'Russian', 'German', 'Italian',\n",
       "       'Korean', 'Japanese', 'Spanish', 'Dutch', 'Dagbani', 'Portuguese',\n",
       "       'Vietnamese', 'Taroko', 'Southern Altai', 'Inari Sami',\n",
       "       'Tachelhit', 'Amis', 'Saraiki', 'Arabic', 'Manipuri', 'Nias',\n",
       "       'Paiwan', 'Atayal', 'Madurese', 'Doteli'], dtype=object)"
      ]
     },
     "execution_count": 99,
     "metadata": {},
     "output_type": "execute_result"
    }
   ],
   "source": [
    "# languages haven't yet been classified to any group\n",
    "active_projects[active_projects['project_group'].isna()].language.unique()"
   ]
  },
  {
   "cell_type": "code",
   "execution_count": 100,
   "metadata": {},
   "outputs": [],
   "source": [
    "# assign groups to remaining language projects based on information provided by GDI team\n",
    "misc_languages_map = {'English': 'other', 'Chinese': 'asia_wps', 'French': 'other', 'Russian': 'cee_wps',\n",
    "                      'German': 'weur_wps', 'Italian': 'weur_wps', 'Korean': 'asia_wps', 'Japanese': 'asia_wps', \n",
    "                      'Spanish': 'other', 'Dutch': 'weur_wps', 'Dagbani': 'meaf_wps', 'Portuguese': 'other', \n",
    "                      'Vietnamese': 'asia_wps', 'Taroko': 'asia_wps', 'Southern Altai': 'cee_wps', \n",
    "                      'Inari Sami': 'weur_wps', 'Tachelhit': 'meaf_wps', 'Amis': 'asia_wps', \n",
    "                      'Saraiki': 'sasia_wps', 'Arabic': 'meaf_wps', 'Manipuri': 'sasia_wps',\n",
    "                      'Nias': 'malay_wps', 'Paiwan': 'asia_wps', 'Atayal': 'asia_wps',\n",
    "                      'Madurese': 'malay_wps', 'Doteli': 'sasia_wps'}\n",
    "\n",
    "for i in active_projects[active_projects.project_group.isna()].index:\n",
    "    try: active_projects.loc[i, 'project_group'] = misc_languages_map[active_projects.loc[i,:].language]\n",
    "    except Exception as e: print(e)"
   ]
  },
  {
   "cell_type": "code",
   "execution_count": 101,
   "metadata": {},
   "outputs": [
    {
     "data": {
      "text/plain": [
       "project_key      0\n",
       "project_name     0\n",
       "language         0\n",
       "project_group    0\n",
       "dtype: int64"
      ]
     },
     "execution_count": 101,
     "metadata": {},
     "output_type": "execute_result"
    }
   ],
   "source": [
    "# review pending null values\n",
    "active_projects.isna().sum()"
   ]
  },
  {
   "cell_type": "code",
   "execution_count": 103,
   "metadata": {},
   "outputs": [],
   "source": [
    "# Wikimedia Foundation's internal wiki should be removed\n",
    "foundationwiki_index = active_projects[active_projects.project_key == 'foundationwiki'].index\n",
    "active_projects = active_projects.drop(index=foundationwiki_index)\n",
    "active_projects.set_index('project_key', inplace=True)"
   ]
  },
  {
   "cell_type": "code",
   "execution_count": 104,
   "metadata": {},
   "outputs": [
    {
     "name": "stdout",
     "output_type": "stream",
     "text": [
      "(647, 3)\n"
     ]
    },
    {
     "data": {
      "text/html": [
       "<div>\n",
       "<style scoped>\n",
       "    .dataframe tbody tr th:only-of-type {\n",
       "        vertical-align: middle;\n",
       "    }\n",
       "\n",
       "    .dataframe tbody tr th {\n",
       "        vertical-align: top;\n",
       "    }\n",
       "\n",
       "    .dataframe thead th {\n",
       "        text-align: right;\n",
       "    }\n",
       "</style>\n",
       "<table border=\"1\" class=\"dataframe\">\n",
       "  <thead>\n",
       "    <tr style=\"text-align: right;\">\n",
       "      <th></th>\n",
       "      <th>project_name</th>\n",
       "      <th>language</th>\n",
       "      <th>project_group</th>\n",
       "    </tr>\n",
       "    <tr>\n",
       "      <th>project_key</th>\n",
       "      <th></th>\n",
       "      <th></th>\n",
       "      <th></th>\n",
       "    </tr>\n",
       "  </thead>\n",
       "  <tbody>\n",
       "    <tr>\n",
       "      <th>enwiki</th>\n",
       "      <td>English Wikipedia</td>\n",
       "      <td>English</td>\n",
       "      <td>enwiki</td>\n",
       "    </tr>\n",
       "    <tr>\n",
       "      <th>commonswiki</th>\n",
       "      <td>Wikimedia Commons</td>\n",
       "      <td>English</td>\n",
       "      <td>commons</td>\n",
       "    </tr>\n",
       "    <tr>\n",
       "      <th>wikidatawiki</th>\n",
       "      <td>Wikidata</td>\n",
       "      <td>English</td>\n",
       "      <td>wikidata</td>\n",
       "    </tr>\n",
       "    <tr>\n",
       "      <th>jawiki</th>\n",
       "      <td>Japanese Wikipedia</td>\n",
       "      <td>Japanese</td>\n",
       "      <td>jawiki</td>\n",
       "    </tr>\n",
       "    <tr>\n",
       "      <th>dewiki</th>\n",
       "      <td>German Wikipedia</td>\n",
       "      <td>German</td>\n",
       "      <td>dewiki</td>\n",
       "    </tr>\n",
       "  </tbody>\n",
       "</table>\n",
       "</div>"
      ],
      "text/plain": [
       "                    project_name  language project_group\n",
       "project_key                                             \n",
       "enwiki         English Wikipedia   English        enwiki\n",
       "commonswiki    Wikimedia Commons   English       commons\n",
       "wikidatawiki            Wikidata   English      wikidata\n",
       "jawiki        Japanese Wikipedia  Japanese        jawiki\n",
       "dewiki          German Wikipedia    German        dewiki"
      ]
     },
     "execution_count": 104,
     "metadata": {},
     "output_type": "execute_result"
    }
   ],
   "source": [
    "print(active_projects.shape)\n",
    "active_projects.head()"
   ]
  },
  {
   "cell_type": "markdown",
   "metadata": {},
   "source": [
    "# Save the updated list"
   ]
  },
  {
   "cell_type": "code",
   "execution_count": 109,
   "metadata": {},
   "outputs": [],
   "source": [
    "(active_projects\n",
    ".sort_values(\"project_name\")\n",
    ".reset_index()\n",
    "[[\"project_name\", \"project_key\", \"project_group\"]]\n",
    "# For some reason, this doesn't overwrite the old file sometimes\n",
    ".to_csv(\"definitions/project-group-assignments.tsv\", sep = \"\\t\", index=False)\n",
    ")"
   ]
  }
 ],
 "metadata": {
  "kernelspec": {
   "display_name": "Python 3",
   "language": "python",
   "name": "python3"
  },
  "language_info": {
   "codemirror_mode": {
    "name": "ipython",
    "version": 3
   },
   "file_extension": ".py",
   "mimetype": "text/x-python",
   "name": "python",
   "nbconvert_exporter": "python",
   "pygments_lexer": "ipython3",
   "version": "3.7.6"
  }
 },
 "nbformat": 4,
 "nbformat_minor": 4
}
